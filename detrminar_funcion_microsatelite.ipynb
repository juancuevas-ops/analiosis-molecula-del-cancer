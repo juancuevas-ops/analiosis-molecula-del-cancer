{
  "nbformat": 4,
  "nbformat_minor": 0,
  "metadata": {
    "colab": {
      "provenance": [],
      "authorship_tag": "ABX9TyNT3vbhT+lUMp0Q0Czq4+h7",
      "include_colab_link": true
    },
    "kernelspec": {
      "name": "python3",
      "display_name": "Python 3"
    },
    "language_info": {
      "name": "python"
    }
  },
  "cells": [
    {
      "cell_type": "markdown",
      "metadata": {
        "id": "view-in-github",
        "colab_type": "text"
      },
      "source": [
        "<a href=\"https://colab.research.google.com/github/juancuevas-ops/analiosis-molecula-del-cancer/blob/main/detrminar_funcion_microsatelite.ipynb\" target=\"_parent\"><img src=\"https://colab.research.google.com/assets/colab-badge.svg\" alt=\"Open In Colab\"/></a>"
      ]
    },
    {
      "cell_type": "code",
      "execution_count": null,
      "metadata": {
        "id": "7O_3645RuSWX"
      },
      "outputs": [],
      "source": [
        "from Bio import SeqIO\n",
        "import csv\n",
        "\n",
        "def analizar_arn_brca2(ruta_archivo, ruta_salida):\n",
        "    \"\"\"\n",
        "    Analiza las secuencias de ARN en brca2.fasta y guarda las posibles funciones en un archivo CSV.\n",
        "\n",
        "    Args:\n",
        "        ruta_archivo (str): Ruta al archivo FASTA con las secuencias de ARN.\n",
        "        ruta_salida (str): Ruta para guardar el archivo CSV con los resultados.\n",
        "    \"\"\"\n",
        "\n",
        "    try:\n",
        "        registros = list(SeqIO.parse(ruta_archivo, \"fasta\"))\n",
        "\n",
        "        if not registros:\n",
        "            print(\"El archivo FASTA está vacío.\")\n",
        "            return\n",
        "\n",
        "        resultados_totales = []\n",
        "\n",
        "        for registro in registros:\n",
        "            secuencia = str(registro.seq).upper()\n",
        "\n",
        "            resultados = {\n",
        "                \"identificador\": registro.id,\n",
        "                \"posible_funcion\": determinar_posible_funcion(secuencia)\n",
        "            }\n",
        "            resultados_totales.append(resultados)\n",
        "\n",
        "        guardar_resultados_csv(resultados_totales, ruta_salida)\n",
        "        print(f\"Resultados guardados en {ruta_salida}.\")\n",
        "\n",
        "    except FileNotFoundError:\n",
        "        print(\"Archivo no encontrado.\")\n",
        "\n",
        "def determinar_posible_funcion(secuencia):\n",
        "    \"\"\"Determina la posible función de la secuencia.\"\"\"\n",
        "    if len(secuencia) > 1000:\n",
        "        return \"Posible región codificante o reguladora compleja.\"\n",
        "    elif len(detectar_repeticiones(secuencia)) > 10:\n",
        "        return \"Presencia de repeticiones sugiere posible función reguladora o estructural.\"\n",
        "    else:\n",
        "        return \"Función indeterminada. Se requiere análisis adicional.\"\n",
        "\n",
        "def detectar_repeticiones(secuencia, longitud_minima=5):\n",
        "    \"\"\"Detecta patrones de repetición en la secuencia.\"\"\"\n",
        "    repeticiones = {}\n",
        "    for i in range(len(secuencia) - longitud_minima + 1):\n",
        "        subseq = secuencia[i:i + longitud_minima]\n",
        "        for j in range(i + longitud_minima, len(secuencia) - longitud_minima + 1):\n",
        "            if secuencia[j:j + longitud_minima] == subseq:\n",
        "                if subseq in repeticiones:\n",
        "                    repeticiones[subseq] += 1\n",
        "                else:\n",
        "                    repeticiones[subseq] = 1\n",
        "    return repeticiones\n",
        "\n",
        "def guardar_resultados_csv(resultados_totales, ruta_salida):\n",
        "    \"\"\"Guarda los resultados en un archivo CSV.\"\"\"\n",
        "    with open(ruta_salida, \"w\", newline=\"\") as archivo_csv:\n",
        "        escritor = csv.writer(archivo_csv)\n",
        "        encabezados = [\"identificador\", \"posible_funcion\"]\n",
        "        escritor.writerow(encabezados)\n",
        "\n",
        "        for resultados in resultados_totales:\n",
        "            fila = [resultados[\"identificador\"], resultados[\"posible_funcion\"]]\n",
        "            escritor.writerow(fila)\n",
        "\n",
        "# Uso del script\n",
        "ruta_arn_brca2 = \"/content/rna.fna\"  # Reemplaza con la ruta correcta\n",
        "ruta_salida_csv = \"resultados_brca2_funciones.csv\" # Nombre adecuado para el CSV.\n",
        "\n",
        "analizar_arn_brca2(ruta_arn_brca2, ruta_salida_csv)"
      ]
    }
  ]
}